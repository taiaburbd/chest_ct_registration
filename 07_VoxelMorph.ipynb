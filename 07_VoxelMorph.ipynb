{
 "cells": [
  {
   "cell_type": "markdown",
   "metadata": {},
   "source": [
    "# MIRA: Final Project 2023\n",
    "Professor: Josep Quintana, Robert Martí\n",
    "\n",
    "Topic: Image registration of chest CT volumes: 4DCT DIR-Lab Challenge\n",
    "\n",
    "Taiabur\n"
   ]
  },
  {
   "cell_type": "code",
   "execution_count": null,
   "metadata": {},
   "outputs": [
    {
     "ename": "",
     "evalue": "",
     "output_type": "error",
     "traceback": [
      "\u001b[1;31mFailed to start the Kernel. \n",
      "\u001b[1;31mUnable to start Kernel '.ve (Python 3.11.1)' due to a timeout waiting for the ports to get used. \n",
      "\u001b[1;31mView Jupyter <a href='command:jupyter.viewOutput'>log</a> for further details."
     ]
    }
   ],
   "source": [
    "import tensorflow as tf\n",
    "from tensorflow.keras import layers, models\n",
    "from pathlib import Path\n"
   ]
  },
  {
   "cell_type": "code",
   "execution_count": null,
   "metadata": {},
   "outputs": [],
   "source": [
    "\n",
    "MAIN_PATH       = Path('../FinalProject/').resolve()\n",
    "TRAIN_DATA_PATH = MAIN_PATH / 'dataset' / 'train'\n",
    "OUTPUT_DATA_PATH = MAIN_PATH / 'dataset' / 'output'\n"
   ]
  },
  {
   "cell_type": "code",
   "execution_count": null,
   "metadata": {},
   "outputs": [],
   "source": [
    "\n",
    "# Create an empty list to store data for DataFrame\n",
    "data = []\n",
    "\n",
    "for i, dir in enumerate(TRAIN_DATA_PATH.iterdir()):\n",
    "    id = dir.stem\n",
    "    \n",
    "    inhale_image_name = f'{id}_iBHCT.img'\n",
    "    exhale_image_name = f'{id}_eBHCT.img'\n",
    "\n",
    "    inhale_landmark_name = f'{id}_300_iBH_xyz_r1.txt'\n",
    "    exhale_landmark_name = f'{id}_300_eBH_xyz_r1.txt'"
   ]
  },
  {
   "cell_type": "code",
   "execution_count": null,
   "metadata": {},
   "outputs": [],
   "source": [
    "\n",
    "def VoxelMorphNet(input_shape=(256, 256, 256, 1)):\n",
    "    \"\"\"\n",
    "    VoxelMorph network architecture for 3D medical image registration.\n",
    "\n",
    "    Args:\n",
    "    input_shape (tuple): Shape of the input volume. Default is (256, 256, 256, 1).\n",
    "\n",
    "    Returns:\n",
    "    model (tf.keras.Model): A TensorFlow Keras model instance.\n",
    "    \"\"\"\n",
    "\n",
    "    # Input layers for the fixed and moving images\n",
    "    fixed_input = layers.Input(shape=input_shape, name='fixed_input')\n",
    "    moving_input = layers.Input(shape=input_shape, name='moving_input')\n",
    "\n",
    "    # Concatenate inputs\n",
    "    x = layers.Concatenate(axis=-1)([fixed_input, moving_input])\n",
    "\n",
    "    # Downsampling through Conv3D layers\n",
    "    x = layers.Conv3D(16, kernel_size=3, activation='relu', padding='same')(x)\n",
    "    x = layers.Conv3D(32, kernel_size=3, activation='relu', padding='same')(x)\n",
    "    x = layers.Conv3D(64, kernel_size=3, activation='relu', padding='same')(x)\n",
    "\n",
    "    # Upsampling and establishing the flow field\n",
    "    x = layers.Conv3DTranspose(32, kernel_size=3, activation='relu', padding='same')(x)\n",
    "    x = layers.Conv3DTranspose(16, kernel_size=3, activation='relu', padding='same')(x)\n",
    "    flow = layers.Conv3D(3, kernel_size=3, activation=None, padding='same', name='flow_field')(x)\n",
    "\n",
    "    # Create the Keras model\n",
    "    model = models.Model(inputs=[fixed_input, moving_input], outputs=flow)\n",
    "\n",
    "    return model\n"
   ]
  }
 ],
 "metadata": {
  "kernelspec": {
   "display_name": ".venv",
   "language": "python",
   "name": "python3"
  },
  "language_info": {
   "codemirror_mode": {
    "name": "ipython",
    "version": 3
   },
   "file_extension": ".py",
   "mimetype": "text/x-python",
   "name": "python",
   "nbconvert_exporter": "python",
   "pygments_lexer": "ipython3",
   "version": "3.11.1"
  }
 },
 "nbformat": 4,
 "nbformat_minor": 2
}
