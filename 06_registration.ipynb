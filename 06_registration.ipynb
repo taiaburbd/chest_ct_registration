{
 "cells": [
  {
   "cell_type": "markdown",
   "metadata": {},
   "source": [
    "# MIRA: Final Project 2023\n",
    "Professor: Josep Quintana, Robert Martí\n",
    "\n",
    "Topic: Image registration of chest CT volumes: 4DCT DIR-Lab Challenge\n",
    "\n",
    "Taiabur\n"
   ]
  },
  {
   "cell_type": "code",
   "execution_count": 1,
   "metadata": {},
   "outputs": [
    {
     "name": "stderr",
     "output_type": "stream",
     "text": [
      "/var/folders/zp/kn2c7zks0q55p6_3s3c4b97h0000gn/T/ipykernel_30189/211832224.py:3: DeprecationWarning: \n",
      "Pyarrow will become a required dependency of pandas in the next major release of pandas (pandas 3.0),\n",
      "(to allow more performant data types, such as the Arrow string type, and better interoperability with other libraries)\n",
      "but was not found to be installed on your system.\n",
      "If this would cause problems for you,\n",
      "please provide us feedback at https://github.com/pandas-dev/pandas/issues/54466\n",
      "        \n",
      "  import pandas as pd\n"
     ]
    }
   ],
   "source": [
    "import SimpleITK as sitk\n",
    "import matplotlib.pyplot as plt\n",
    "import pandas as pd\n",
    "\n",
    "import numpy as np\n",
    "import matplotlib.pyplot as plt\n",
    "from mpl_toolkits.mplot3d import Axes3D  \n",
    "import nibabel as nib\n",
    "from typing import Tuple\n",
    "from pathlib import Path\n"
   ]
  },
  {
   "cell_type": "markdown",
   "metadata": {},
   "source": [
    "image registration"
   ]
  },
  {
   "cell_type": "code",
   "execution_count": 2,
   "metadata": {},
   "outputs": [],
   "source": [
    "MAIN_PATH       = Path('./').resolve()\n",
    "PARAM_PATH = MAIN_PATH / 'parameter'\n",
    "DATASET_PATH = MAIN_PATH / 'dataset'\n",
    "OUTPUT_DATA_PATH = DATASET_PATH / 'preprocessing_output'\n",
    "SEGMENTED_IMAGE_PATH = OUTPUT_DATA_PATH / 'clahe'\n"
   ]
  },
  {
   "cell_type": "code",
   "execution_count": 3,
   "metadata": {},
   "outputs": [
    {
     "name": "stdout",
     "output_type": "stream",
     "text": [
      "Starting Registration -> Parameter: rigid\n",
      "Fixed Image Path /Users/taiaburrahman/Desktop/git/chest_ct_registration/dataset/preprocessing_output/clahe/copd1/copd1_iBHCT.nii.gz\n",
      "Moving Image Path /Users/taiaburrahman/Desktop/git/chest_ct_registration/dataset/preprocessing_output/clahe/copd1/copd1_eBHCT.nii.gz\n",
      "Inhale landmark Path /Users/taiaburrahman/Desktop/git/chest_ct_registration/dataset/preprocessing_output/clahe/copd1/copd1_300_iBH_xyz_r1.txt\n"
     ]
    },
    {
     "name": "stderr",
     "output_type": "stream",
     "text": [
      "loadtxt: input contained no data: \"/Users/taiaburrahman/Desktop/git/chest_ct_registration/dataset/preprocessing_output/rigid/copd1/outputpoints.txt\"\n"
     ]
    },
    {
     "name": "stdout",
     "output_type": "stream",
     "text": [
      "Fixed Image Path /Users/taiaburrahman/Desktop/git/chest_ct_registration/dataset/preprocessing_output/clahe/copd2/copd2_iBHCT.nii.gz\n",
      "Moving Image Path /Users/taiaburrahman/Desktop/git/chest_ct_registration/dataset/preprocessing_output/clahe/copd2/copd2_eBHCT.nii.gz\n",
      "Inhale landmark Path /Users/taiaburrahman/Desktop/git/chest_ct_registration/dataset/preprocessing_output/clahe/copd2/copd2_300_iBH_xyz_r1.txt\n"
     ]
    },
    {
     "name": "stderr",
     "output_type": "stream",
     "text": [
      "loadtxt: input contained no data: \"/Users/taiaburrahman/Desktop/git/chest_ct_registration/dataset/preprocessing_output/rigid/copd2/outputpoints.txt\"\n"
     ]
    },
    {
     "name": "stdout",
     "output_type": "stream",
     "text": [
      "Fixed Image Path /Users/taiaburrahman/Desktop/git/chest_ct_registration/dataset/preprocessing_output/clahe/copd3/copd3_iBHCT.nii.gz\n",
      "Moving Image Path /Users/taiaburrahman/Desktop/git/chest_ct_registration/dataset/preprocessing_output/clahe/copd3/copd3_eBHCT.nii.gz\n",
      "Inhale landmark Path /Users/taiaburrahman/Desktop/git/chest_ct_registration/dataset/preprocessing_output/clahe/copd3/copd3_300_iBH_xyz_r1.txt\n"
     ]
    },
    {
     "name": "stderr",
     "output_type": "stream",
     "text": [
      "loadtxt: input contained no data: \"/Users/taiaburrahman/Desktop/git/chest_ct_registration/dataset/preprocessing_output/rigid/copd3/outputpoints.txt\"\n"
     ]
    },
    {
     "name": "stdout",
     "output_type": "stream",
     "text": [
      "Fixed Image Path /Users/taiaburrahman/Desktop/git/chest_ct_registration/dataset/preprocessing_output/clahe/copd4/copd4_iBHCT.nii.gz\n",
      "Moving Image Path /Users/taiaburrahman/Desktop/git/chest_ct_registration/dataset/preprocessing_output/clahe/copd4/copd4_eBHCT.nii.gz\n",
      "Inhale landmark Path /Users/taiaburrahman/Desktop/git/chest_ct_registration/dataset/preprocessing_output/clahe/copd4/copd4_300_iBH_xyz_r1.txt\n",
      "+-------------+-------------+\n",
      "| COPD_Type   |   times (s) |\n",
      "+=============+=============+\n",
      "| copd1       |        8.57 |\n",
      "+-------------+-------------+\n",
      "| copd2       |        7.27 |\n",
      "+-------------+-------------+\n",
      "| copd3       |        9.39 |\n",
      "+-------------+-------------+\n",
      "| copd4       |        9.6  |\n",
      "+-------------+-------------+\n",
      "Registration_done\n",
      "Starting to Saving Landmark\n",
      "/Users/taiaburrahman/Desktop/git/chest_ct_registration/dataset/preprocessing_output/rigid/copd2/reg_landmark.txt\n",
      "\n",
      "/Users/taiaburrahman/Desktop/git/chest_ct_registration/dataset/preprocessing_output/rigid/copd4/reg_landmark.txt\n",
      "\n",
      "/Users/taiaburrahman/Desktop/git/chest_ct_registration/dataset/preprocessing_output/rigid/copd3/reg_landmark.txt\n",
      "\n",
      "/Users/taiaburrahman/Desktop/git/chest_ct_registration/dataset/preprocessing_output/rigid/copd1/reg_landmark.txt\n",
      "\n",
      "Successfully completed to Saved Landmark\n",
      "Starting to TRE calculate\n",
      "+-------------+-------------------------------------+\n",
      "| COPD_Type   | Calculated (TRE) :Mean ± STD (mm)   |\n",
      "+=============+=====================================+\n",
      "| copd1       | 288.2025 ± 53.1706                  |\n",
      "+-------------+-------------------------------------+\n",
      "| copd2       | 294.3872 ± 53.3709                  |\n",
      "+-------------+-------------------------------------+\n",
      "| copd3       | 294.2860 ± 56.9591                  |\n",
      "+-------------+-------------------------------------+\n",
      "| copd4       | 265.2547 ± 44.9427                  |\n",
      "+-------------+-------------------------------------+\n",
      "| Mean        | 285.5326 ± 52.1108                  |\n",
      "+-------------+-------------------------------------+\n",
      "Done\n"
     ]
    },
    {
     "name": "stderr",
     "output_type": "stream",
     "text": [
      "loadtxt: input contained no data: \"/Users/taiaburrahman/Desktop/git/chest_ct_registration/dataset/preprocessing_output/rigid/copd4/outputpoints.txt\"\n"
     ]
    }
   ],
   "source": [
    "from utils.registration import elastix_transformix_registration_method\n",
    "param_name = 'rigid'\n",
    "parameter =[\n",
    "    \"Par0056rigid.txt\",\n",
    "]\n",
    "\n",
    "elastix_transformix_registration_method(parameter,PARAM_PATH, SEGMENTED_IMAGE_PATH, OUTPUT_DATA_PATH, param_name)"
   ]
  },
  {
   "cell_type": "code",
   "execution_count": 4,
   "metadata": {},
   "outputs": [
    {
     "name": "stdout",
     "output_type": "stream",
     "text": [
      "Starting Registration -> Parameter: affine\n",
      "Fixed Image Path /Users/taiaburrahman/Desktop/git/chest_ct_registration/dataset/preprocessing_output/clahe/copd1/copd1_iBHCT.nii.gz\n",
      "Moving Image Path /Users/taiaburrahman/Desktop/git/chest_ct_registration/dataset/preprocessing_output/clahe/copd1/copd1_eBHCT.nii.gz\n",
      "Inhale landmark Path /Users/taiaburrahman/Desktop/git/chest_ct_registration/dataset/preprocessing_output/clahe/copd1/copd1_300_iBH_xyz_r1.txt\n"
     ]
    },
    {
     "name": "stderr",
     "output_type": "stream",
     "text": [
      "loadtxt: input contained no data: \"/Users/taiaburrahman/Desktop/git/chest_ct_registration/dataset/preprocessing_output/affine/copd1/outputpoints.txt\"\n"
     ]
    },
    {
     "name": "stdout",
     "output_type": "stream",
     "text": [
      "Fixed Image Path /Users/taiaburrahman/Desktop/git/chest_ct_registration/dataset/preprocessing_output/clahe/copd2/copd2_iBHCT.nii.gz\n",
      "Moving Image Path /Users/taiaburrahman/Desktop/git/chest_ct_registration/dataset/preprocessing_output/clahe/copd2/copd2_eBHCT.nii.gz\n",
      "Inhale landmark Path /Users/taiaburrahman/Desktop/git/chest_ct_registration/dataset/preprocessing_output/clahe/copd2/copd2_300_iBH_xyz_r1.txt\n"
     ]
    }
   ],
   "source": [
    "from utils.registration import elastix_transformix_registration_method\n",
    "param_name = 'affine'\n",
    "parameter =[\n",
    "    \"Parameters.Par0011.affine.txt\"\n",
    "]\n",
    "\n",
    "elastix_transformix_registration_method(parameter,PARAM_PATH, SEGMENTED_IMAGE_PATH, OUTPUT_DATA_PATH, param_name)"
   ]
  },
  {
   "cell_type": "code",
   "execution_count": null,
   "metadata": {},
   "outputs": [
    {
     "name": "stdout",
     "output_type": "stream",
     "text": [
      "Starting Registration -> Parameter: bspline1\n",
      "Fixed Image Path /Users/taiaburrahman/Desktop/Udg/MIRA/FinalProject/dataset/preprocessing_output/clahe/copd1/copd1_iBHCT.nii.gz\n",
      "Moving Image Path /Users/taiaburrahman/Desktop/Udg/MIRA/FinalProject/dataset/preprocessing_output/clahe/copd1/copd1_eBHCT.nii.gz\n",
      "Inhale landmark Path /Users/taiaburrahman/Desktop/Udg/MIRA/FinalProject/dataset/preprocessing_output/clahe/copd1/copd1_300_iBH_xyz_r1.txt\n",
      "Fixed Image Path /Users/taiaburrahman/Desktop/Udg/MIRA/FinalProject/dataset/preprocessing_output/clahe/copd2/copd2_iBHCT.nii.gz\n",
      "Moving Image Path /Users/taiaburrahman/Desktop/Udg/MIRA/FinalProject/dataset/preprocessing_output/clahe/copd2/copd2_eBHCT.nii.gz\n",
      "Inhale landmark Path /Users/taiaburrahman/Desktop/Udg/MIRA/FinalProject/dataset/preprocessing_output/clahe/copd2/copd2_300_iBH_xyz_r1.txt\n",
      "Fixed Image Path /Users/taiaburrahman/Desktop/Udg/MIRA/FinalProject/dataset/preprocessing_output/clahe/copd3/copd3_iBHCT.nii.gz\n",
      "Moving Image Path /Users/taiaburrahman/Desktop/Udg/MIRA/FinalProject/dataset/preprocessing_output/clahe/copd3/copd3_eBHCT.nii.gz\n",
      "Inhale landmark Path /Users/taiaburrahman/Desktop/Udg/MIRA/FinalProject/dataset/preprocessing_output/clahe/copd3/copd3_300_iBH_xyz_r1.txt\n",
      "Fixed Image Path /Users/taiaburrahman/Desktop/Udg/MIRA/FinalProject/dataset/preprocessing_output/clahe/copd4/copd4_iBHCT.nii.gz\n",
      "Moving Image Path /Users/taiaburrahman/Desktop/Udg/MIRA/FinalProject/dataset/preprocessing_output/clahe/copd4/copd4_eBHCT.nii.gz\n",
      "Inhale landmark Path /Users/taiaburrahman/Desktop/Udg/MIRA/FinalProject/dataset/preprocessing_output/clahe/copd4/copd4_300_iBH_xyz_r1.txt\n",
      "+-------------+-------------+\n",
      "| COPD_Type   |   times (s) |\n",
      "+=============+=============+\n",
      "| copd1       |       91.35 |\n",
      "+-------------+-------------+\n",
      "| copd2       |       87.52 |\n",
      "+-------------+-------------+\n",
      "| copd3       |      100.94 |\n",
      "+-------------+-------------+\n",
      "| copd4       |       98.72 |\n",
      "+-------------+-------------+\n",
      "Registration_done\n",
      "Starting to Saving Landmark\n",
      "/Users/taiaburrahman/Desktop/Udg/MIRA/FinalProject/dataset/preprocessing_output/bspline1/copd2/reg_landmark.txt\n",
      "\n",
      "/Users/taiaburrahman/Desktop/Udg/MIRA/FinalProject/dataset/preprocessing_output/bspline1/copd4/reg_landmark.txt\n",
      "\n",
      "/Users/taiaburrahman/Desktop/Udg/MIRA/FinalProject/dataset/preprocessing_output/bspline1/copd3/reg_landmark.txt\n",
      "\n",
      "/Users/taiaburrahman/Desktop/Udg/MIRA/FinalProject/dataset/preprocessing_output/bspline1/copd1/reg_landmark.txt\n",
      "\n",
      "Successfully completed to Saved Landmark\n",
      "Starting to TRE calculate\n",
      "+-------------+-------------------------------------+\n",
      "| COPD_Type   | Calculated (TRE) :Mean ± STD (mm)   |\n",
      "+=============+=====================================+\n",
      "| copd1       | 10.2692 ± 5.8818                    |\n",
      "+-------------+-------------------------------------+\n",
      "| copd2       | 11.4104 ± 7.5154                    |\n",
      "+-------------+-------------------------------------+\n",
      "| copd3       | 4.3771 ± 3.1340                     |\n",
      "+-------------+-------------------------------------+\n",
      "| copd4       | 14.0496 ± 5.7479                    |\n",
      "+-------------+-------------------------------------+\n",
      "| Mean        | 10.0266 ± 5.5698                    |\n",
      "+-------------+-------------------------------------+\n",
      "Done\n"
     ]
    }
   ],
   "source": [
    "from utils.registration import elastix_transformix_registration_method\n",
    "param_name = 'bspline1'\n",
    "parameter =[\n",
    "    \"Parameters.Par0011.bspline1_s.txt\"\n",
    "]\n",
    "\n",
    "elastix_transformix_registration_method(parameter,PARAM_PATH, SEGMENTED_IMAGE_PATH, OUTPUT_DATA_PATH, param_name)"
   ]
  },
  {
   "cell_type": "code",
   "execution_count": null,
   "metadata": {},
   "outputs": [
    {
     "name": "stdout",
     "output_type": "stream",
     "text": [
      "Starting Registration -> Parameter: bspline2\n",
      "Fixed Image Path /Users/taiaburrahman/Desktop/Udg/MIRA/FinalProject/dataset/preprocessing_output/clahe/copd1/copd1_iBHCT.nii.gz\n",
      "Moving Image Path /Users/taiaburrahman/Desktop/Udg/MIRA/FinalProject/dataset/preprocessing_output/clahe/copd1/copd1_eBHCT.nii.gz\n",
      "Inhale landmark Path /Users/taiaburrahman/Desktop/Udg/MIRA/FinalProject/dataset/preprocessing_output/clahe/copd1/copd1_300_iBH_xyz_r1.txt\n",
      "Fixed Image Path /Users/taiaburrahman/Desktop/Udg/MIRA/FinalProject/dataset/preprocessing_output/clahe/copd2/copd2_iBHCT.nii.gz\n",
      "Moving Image Path /Users/taiaburrahman/Desktop/Udg/MIRA/FinalProject/dataset/preprocessing_output/clahe/copd2/copd2_eBHCT.nii.gz\n",
      "Inhale landmark Path /Users/taiaburrahman/Desktop/Udg/MIRA/FinalProject/dataset/preprocessing_output/clahe/copd2/copd2_300_iBH_xyz_r1.txt\n",
      "Fixed Image Path /Users/taiaburrahman/Desktop/Udg/MIRA/FinalProject/dataset/preprocessing_output/clahe/copd3/copd3_iBHCT.nii.gz\n",
      "Moving Image Path /Users/taiaburrahman/Desktop/Udg/MIRA/FinalProject/dataset/preprocessing_output/clahe/copd3/copd3_eBHCT.nii.gz\n",
      "Inhale landmark Path /Users/taiaburrahman/Desktop/Udg/MIRA/FinalProject/dataset/preprocessing_output/clahe/copd3/copd3_300_iBH_xyz_r1.txt\n",
      "Fixed Image Path /Users/taiaburrahman/Desktop/Udg/MIRA/FinalProject/dataset/preprocessing_output/clahe/copd4/copd4_iBHCT.nii.gz\n",
      "Moving Image Path /Users/taiaburrahman/Desktop/Udg/MIRA/FinalProject/dataset/preprocessing_output/clahe/copd4/copd4_eBHCT.nii.gz\n",
      "Inhale landmark Path /Users/taiaburrahman/Desktop/Udg/MIRA/FinalProject/dataset/preprocessing_output/clahe/copd4/copd4_300_iBH_xyz_r1.txt\n",
      "+-------------+-------------+\n",
      "| COPD_Type   |   times (s) |\n",
      "+=============+=============+\n",
      "| copd1       |      917.95 |\n",
      "+-------------+-------------+\n",
      "| copd2       |      689.31 |\n",
      "+-------------+-------------+\n",
      "| copd3       |      850.33 |\n",
      "+-------------+-------------+\n",
      "| copd4       |      832.3  |\n",
      "+-------------+-------------+\n",
      "Registration_done\n",
      "Starting to Saving Landmark\n",
      "/Users/taiaburrahman/Desktop/Udg/MIRA/FinalProject/dataset/preprocessing_output/bspline2/copd2/reg_landmark.txt\n",
      "\n",
      "/Users/taiaburrahman/Desktop/Udg/MIRA/FinalProject/dataset/preprocessing_output/bspline2/copd4/reg_landmark.txt\n",
      "\n",
      "/Users/taiaburrahman/Desktop/Udg/MIRA/FinalProject/dataset/preprocessing_output/bspline2/copd3/reg_landmark.txt\n",
      "\n",
      "/Users/taiaburrahman/Desktop/Udg/MIRA/FinalProject/dataset/preprocessing_output/bspline2/copd1/reg_landmark.txt\n",
      "\n",
      "Successfully completed to Saved Landmark\n",
      "Starting to TRE calculate\n",
      "+-------------+-------------------------------------+\n",
      "| COPD_Type   | Calculated (TRE) :Mean ± STD (mm)   |\n",
      "+=============+=====================================+\n",
      "| copd1       | 10.8228 ± 6.1034                    |\n",
      "+-------------+-------------------------------------+\n",
      "| copd2       | 11.3889 ± 7.5219                    |\n",
      "+-------------+-------------------------------------+\n",
      "| copd3       | 4.0843 ± 3.2179                     |\n",
      "+-------------+-------------------------------------+\n",
      "| copd4       | 17.1801 ± 7.5358                    |\n",
      "+-------------+-------------------------------------+\n",
      "| Mean        | 10.8690 ± 6.0947                    |\n",
      "+-------------+-------------------------------------+\n",
      "Done\n"
     ]
    }
   ],
   "source": [
    "from utils.registration import elastix_transformix_registration_method\n",
    "param_name = 'bspline2'\n",
    "parameter =[\n",
    "    \"Parameters.Par0011.bspline2_s.txt\",\n",
    "]\n",
    "\n",
    "elastix_transformix_registration_method(parameter,PARAM_PATH, SEGMENTED_IMAGE_PATH, OUTPUT_DATA_PATH, param_name)"
   ]
  },
  {
   "cell_type": "code",
   "execution_count": null,
   "metadata": {},
   "outputs": [
    {
     "name": "stdout",
     "output_type": "stream",
     "text": [
      "Starting Registration -> Parameter: affine_bspline1_s\n",
      "Fixed Image Path /Users/taiaburrahman/Desktop/Udg/MIRA/FinalProject/dataset/preprocessing_output/clahe/copd1/copd1_iBHCT.nii.gz\n",
      "Moving Image Path /Users/taiaburrahman/Desktop/Udg/MIRA/FinalProject/dataset/preprocessing_output/clahe/copd1/copd1_eBHCT.nii.gz\n",
      "Inhale landmark Path /Users/taiaburrahman/Desktop/Udg/MIRA/FinalProject/dataset/preprocessing_output/clahe/copd1/copd1_300_iBH_xyz_r1.txt\n",
      "Fixed Image Path /Users/taiaburrahman/Desktop/Udg/MIRA/FinalProject/dataset/preprocessing_output/clahe/copd2/copd2_iBHCT.nii.gz\n",
      "Moving Image Path /Users/taiaburrahman/Desktop/Udg/MIRA/FinalProject/dataset/preprocessing_output/clahe/copd2/copd2_eBHCT.nii.gz\n",
      "Inhale landmark Path /Users/taiaburrahman/Desktop/Udg/MIRA/FinalProject/dataset/preprocessing_output/clahe/copd2/copd2_300_iBH_xyz_r1.txt\n",
      "Fixed Image Path /Users/taiaburrahman/Desktop/Udg/MIRA/FinalProject/dataset/preprocessing_output/clahe/copd3/copd3_iBHCT.nii.gz\n",
      "Moving Image Path /Users/taiaburrahman/Desktop/Udg/MIRA/FinalProject/dataset/preprocessing_output/clahe/copd3/copd3_eBHCT.nii.gz\n",
      "Inhale landmark Path /Users/taiaburrahman/Desktop/Udg/MIRA/FinalProject/dataset/preprocessing_output/clahe/copd3/copd3_300_iBH_xyz_r1.txt\n",
      "Fixed Image Path /Users/taiaburrahman/Desktop/Udg/MIRA/FinalProject/dataset/preprocessing_output/clahe/copd4/copd4_iBHCT.nii.gz\n",
      "Moving Image Path /Users/taiaburrahman/Desktop/Udg/MIRA/FinalProject/dataset/preprocessing_output/clahe/copd4/copd4_eBHCT.nii.gz\n",
      "Inhale landmark Path /Users/taiaburrahman/Desktop/Udg/MIRA/FinalProject/dataset/preprocessing_output/clahe/copd4/copd4_300_iBH_xyz_r1.txt\n",
      "+-------------+-------------+\n",
      "| COPD_Type   |   times (s) |\n",
      "+=============+=============+\n",
      "| copd1       |      111.83 |\n",
      "+-------------+-------------+\n",
      "| copd2       |      101.83 |\n",
      "+-------------+-------------+\n",
      "| copd3       |      112.59 |\n",
      "+-------------+-------------+\n",
      "| copd4       |      113.03 |\n",
      "+-------------+-------------+\n",
      "Registration_done\n",
      "Starting to Saving Landmark\n",
      "/Users/taiaburrahman/Desktop/Udg/MIRA/FinalProject/dataset/preprocessing_output/affine_bspline1_s/copd2/reg_landmark.txt\n",
      "\n",
      "/Users/taiaburrahman/Desktop/Udg/MIRA/FinalProject/dataset/preprocessing_output/affine_bspline1_s/copd4/reg_landmark.txt\n",
      "\n",
      "/Users/taiaburrahman/Desktop/Udg/MIRA/FinalProject/dataset/preprocessing_output/affine_bspline1_s/copd3/reg_landmark.txt\n",
      "\n",
      "/Users/taiaburrahman/Desktop/Udg/MIRA/FinalProject/dataset/preprocessing_output/affine_bspline1_s/copd1/reg_landmark.txt\n",
      "\n",
      "Successfully completed to Saved Landmark\n",
      "Starting to TRE calculate\n",
      "+-------------+-------------------------------------+\n",
      "| COPD_Type   | Calculated (TRE) :Mean ± STD (mm)   |\n",
      "+=============+=====================================+\n",
      "| copd1       | 9.3227 ± 4.2172                     |\n",
      "+-------------+-------------------------------------+\n",
      "| copd2       | 11.2222 ± 7.1035                    |\n",
      "+-------------+-------------------------------------+\n",
      "| copd3       | 4.0570 ± 2.8564                     |\n",
      "+-------------+-------------------------------------+\n",
      "| copd4       | 12.0289 ± 4.4920                    |\n",
      "+-------------+-------------------------------------+\n",
      "| Mean        | 9.1577 ± 4.6673                     |\n",
      "+-------------+-------------------------------------+\n",
      "Done\n"
     ]
    }
   ],
   "source": [
    "from utils.registration import elastix_transformix_registration_method\n",
    "param_name = 'affine_bspline1_s'\n",
    "parameter =[\n",
    "    \"Parameters.Par0011.affine.txt\",\n",
    "    \"Parameters.Par0011.bspline1_s.txt\",\n",
    "]\n",
    "\n",
    "elastix_transformix_registration_method(parameter,PARAM_PATH, SEGMENTED_IMAGE_PATH, OUTPUT_DATA_PATH, param_name)"
   ]
  },
  {
   "cell_type": "code",
   "execution_count": null,
   "metadata": {},
   "outputs": [
    {
     "name": "stdout",
     "output_type": "stream",
     "text": [
      "Starting Registration -> Parameter: affine_bspline1_bspline2\n",
      "Fixed Image Path /Users/taiaburrahman/Desktop/Udg/MIRA/FinalProject/dataset/preprocessing_output/clahe/copd1/copd1_iBHCT.nii.gz\n",
      "Moving Image Path /Users/taiaburrahman/Desktop/Udg/MIRA/FinalProject/dataset/preprocessing_output/clahe/copd1/copd1_eBHCT.nii.gz\n",
      "Inhale landmark Path /Users/taiaburrahman/Desktop/Udg/MIRA/FinalProject/dataset/preprocessing_output/clahe/copd1/copd1_300_iBH_xyz_r1.txt\n",
      "Fixed Image Path /Users/taiaburrahman/Desktop/Udg/MIRA/FinalProject/dataset/preprocessing_output/clahe/copd2/copd2_iBHCT.nii.gz\n",
      "Moving Image Path /Users/taiaburrahman/Desktop/Udg/MIRA/FinalProject/dataset/preprocessing_output/clahe/copd2/copd2_eBHCT.nii.gz\n",
      "Inhale landmark Path /Users/taiaburrahman/Desktop/Udg/MIRA/FinalProject/dataset/preprocessing_output/clahe/copd2/copd2_300_iBH_xyz_r1.txt\n",
      "Fixed Image Path /Users/taiaburrahman/Desktop/Udg/MIRA/FinalProject/dataset/preprocessing_output/clahe/copd3/copd3_iBHCT.nii.gz\n",
      "Moving Image Path /Users/taiaburrahman/Desktop/Udg/MIRA/FinalProject/dataset/preprocessing_output/clahe/copd3/copd3_eBHCT.nii.gz\n",
      "Inhale landmark Path /Users/taiaburrahman/Desktop/Udg/MIRA/FinalProject/dataset/preprocessing_output/clahe/copd3/copd3_300_iBH_xyz_r1.txt\n",
      "Fixed Image Path /Users/taiaburrahman/Desktop/Udg/MIRA/FinalProject/dataset/preprocessing_output/clahe/copd4/copd4_iBHCT.nii.gz\n",
      "Moving Image Path /Users/taiaburrahman/Desktop/Udg/MIRA/FinalProject/dataset/preprocessing_output/clahe/copd4/copd4_eBHCT.nii.gz\n",
      "Inhale landmark Path /Users/taiaburrahman/Desktop/Udg/MIRA/FinalProject/dataset/preprocessing_output/clahe/copd4/copd4_300_iBH_xyz_r1.txt\n",
      "+-------------+-------------+\n",
      "| COPD_Type   |   times (s) |\n",
      "+=============+=============+\n",
      "| copd1       |    23658.6  |\n",
      "+-------------+-------------+\n",
      "| copd2       |    10864.7  |\n",
      "+-------------+-------------+\n",
      "| copd3       |     1109.63 |\n",
      "+-------------+-------------+\n",
      "| copd4       |     1178.26 |\n",
      "+-------------+-------------+\n",
      "Registration_done\n",
      "Starting to Saving Landmark\n",
      "/Users/taiaburrahman/Desktop/Udg/MIRA/FinalProject/dataset/preprocessing_output/affine_bspline1_bspline2/copd2/reg_landmark.txt\n",
      "\n",
      "/Users/taiaburrahman/Desktop/Udg/MIRA/FinalProject/dataset/preprocessing_output/affine_bspline1_bspline2/copd4/reg_landmark.txt\n",
      "\n",
      "/Users/taiaburrahman/Desktop/Udg/MIRA/FinalProject/dataset/preprocessing_output/affine_bspline1_bspline2/copd3/reg_landmark.txt\n",
      "\n",
      "/Users/taiaburrahman/Desktop/Udg/MIRA/FinalProject/dataset/preprocessing_output/affine_bspline1_bspline2/copd1/reg_landmark.txt\n",
      "\n",
      "Successfully completed to Saved Landmark\n",
      "Starting to TRE calculate\n",
      "+-------------+-------------------------------------+\n",
      "| COPD_Type   | Calculated (TRE) :Mean ± STD (mm)   |\n",
      "+=============+=====================================+\n",
      "| copd1       | 9.2207 ± 4.3428                     |\n",
      "+-------------+-------------------------------------+\n",
      "| copd2       | 10.5360 ± 7.3850                    |\n",
      "+-------------+-------------------------------------+\n",
      "| copd3       | 3.9018 ± 2.9943                     |\n",
      "+-------------+-------------------------------------+\n",
      "| copd4       | 11.6530 ± 4.7799                    |\n",
      "+-------------+-------------------------------------+\n",
      "| Mean        | 8.8279 ± 4.8755                     |\n",
      "+-------------+-------------------------------------+\n",
      "Done\n"
     ]
    }
   ],
   "source": [
    "from utils.registration import elastix_transformix_registration_method\n",
    "param_name = 'affine_bspline1_bspline2'\n",
    "parameter =[\n",
    "    \"Parameters.Par0011.affine.txt\",\n",
    "    \"Parameters.Par0011.bspline1_s.txt\",\n",
    "    \"Parameters.Par0011.bspline2_s.txt\",\n",
    "]\n",
    "\n",
    "elastix_transformix_registration_method(parameter,PARAM_PATH, SEGMENTED_IMAGE_PATH, OUTPUT_DATA_PATH, param_name)"
   ]
  }
 ],
 "metadata": {
  "kernelspec": {
   "display_name": ".venv",
   "language": "python",
   "name": "python3"
  },
  "language_info": {
   "codemirror_mode": {
    "name": "ipython",
    "version": 3
   },
   "file_extension": ".py",
   "mimetype": "text/x-python",
   "name": "python",
   "nbconvert_exporter": "python",
   "pygments_lexer": "ipython3",
   "version": "3.11.1"
  }
 },
 "nbformat": 4,
 "nbformat_minor": 2
}
